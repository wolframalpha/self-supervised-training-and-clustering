{
 "cells": [
  {
   "cell_type": "code",
   "execution_count": 1,
   "metadata": {},
   "outputs": [],
   "source": [
    "import os\n",
    "os.environ[\"CUDA_VISIBLE_DEVICES\"] = '2'"
   ]
  },
  {
   "cell_type": "code",
   "execution_count": 2,
   "metadata": {},
   "outputs": [],
   "source": [
    "import torch\n",
    "import torch\n",
    "import augdataset\n",
    "import loss, train_utils, models\n",
    "from utils import get_features, show_images\n",
    "from models import Model\n",
    "import numpy as np"
   ]
  },
  {
   "cell_type": "code",
   "execution_count": 3,
   "metadata": {},
   "outputs": [],
   "source": [
    "### pretrained model clustering \n",
    "# import torchvision.models as models\n",
    "# import torch.nn as nn\n",
    "# import torch\n",
    "# import torch.nn.functional as F\n",
    "\n",
    "# # imagenet_resnetmodel= models.resnet18().cuda()\n",
    "\n",
    "# # imagenet_resnetmodel.load_state_dict(torch.load('models/resnet18-5c106cde.pth'))\n",
    "# # imagenet_resnetmodel = torch.nn.Sequential(*list(imagenet_resnetmodel.children())[:-1])\n",
    "\n",
    "# # fps, features = get_features(imagenet_resnetmodel, ['../digitization/data/fin_docs/pdf_images/*.*'])\n",
    "# # features = [x.flatten() for x in features]\n",
    "# # cluster based on features\n",
    "# from sklearn.cluster import KMeans, DBSCAN\n",
    "# import numpy as np\n",
    "# import hdbscan\n",
    "# # kmeans = KMeans(n_clusters=100, random_state=0).fit(features)\n",
    "# labels = hdbscan.HDBSCAN(cluster_selection_epsilon=0.005).fit(features).labels_\n",
    "\n",
    "# # labels = kmeans.labels_\n",
    "# # the distribution of labels\n",
    "# from collections import Counter\n",
    "# print(Counter(labels), len(set(labels)))\n",
    "# # reduce features to 2-dim\n",
    "# from sklearn.decomposition import PCA\n",
    "# from sklearn.manifold import TSNE\n",
    "# # pca = PCA(n_components=2)\n",
    "# # features_reduced = pca.fit_transform(features)\n",
    "# features_reduced = TSNE(n_components=2, learning_rate='auto',\n",
    "#                   init='random').fit_transform(np.array(features))\n",
    "\n",
    "# # plot features \n",
    "# import seaborn as sns\n",
    "# import matplotlib.pyplot as plt\n",
    "# # features_reduced = TSNE(n_components=2, learning_rate='auto',\n",
    "# #                   init='random').fit_transform(np.array(features))\n",
    "# plt.figure(figsize=(18, 12))\n",
    "# sns.scatterplot(x=features_reduced[:, 0], y=features_reduced[:, 1], hue=labels, palette='gist_rainbow_r')\n",
    "# # sns.displot(data=df_c, x=df_c['probability'])\n",
    "# plt.show()"
   ]
  },
  {
   "cell_type": "code",
   "execution_count": 4,
   "metadata": {},
   "outputs": [],
   "source": [
    "# get the dataloader with transformations - no augmentations\n"
   ]
  },
  {
   "cell_type": "code",
   "execution_count": null,
   "metadata": {},
   "outputs": [
    {
     "name": "stderr",
     "output_type": "stream",
     "text": [
      "/root/anaconda3/lib/python3.9/site-packages/torchvision/models/_utils.py:208: UserWarning: The parameter 'pretrained' is deprecated since 0.13 and will be removed in 0.15, please use 'weights' instead.\n",
      "  warnings.warn(\n",
      "/root/anaconda3/lib/python3.9/site-packages/torchvision/models/_utils.py:223: UserWarning: Arguments other than a weight enum or `None` for 'weights' are deprecated since 0.13 and will be removed in 0.15. The current behavior is equivalent to passing `weights=None`.\n",
      "  warnings.warn(msg)\n"
     ]
    },
    {
     "name": "stdout",
     "output_type": "stream",
     "text": [
      "Number of Images:  1394\n",
      "Compose(\n",
      "    Resize(size=(150, 150), interpolation=bilinear, max_size=None, antialias=None)\n",
      "    ToTensor()\n",
      "    Normalize(mean=[0.4914, 0.4822, 0.4465], std=[0.2023, 0.1994, 0.201])\n",
      ")\n"
     ]
    }
   ],
   "source": [
    "# function to the features from images \n",
    "model = Model().cuda()\n",
    "model.load_state_dict(torch.load('models/modelv2.pt')['model'])\n",
    "\n",
    "fps, features = get_features(model, ['../digitization/data/fin_docs/pdf_images/*.*'])"
   ]
  },
  {
   "cell_type": "code",
   "execution_count": null,
   "metadata": {},
   "outputs": [],
   "source": [
    "# cluster based on features\n",
    "from sklearn.cluster import KMeans, DBSCAN\n",
    "import numpy as np\n",
    "import hdbscan\n",
    "# kmeans = KMeans(n_clusters=100, random_state=0).fit(features)\n",
    "labels = hdbscan.HDBSCAN(cluster_selection_epsilon=0.005).fit(features).labels_\n",
    "\n",
    "# labels = kmeans.labels_\n"
   ]
  },
  {
   "cell_type": "code",
   "execution_count": null,
   "metadata": {},
   "outputs": [],
   "source": [
    "# number of points/images\n",
    "len(labels)"
   ]
  },
  {
   "cell_type": "code",
   "execution_count": null,
   "metadata": {
    "scrolled": true,
    "tags": []
   },
   "outputs": [],
   "source": [
    "# the distribution of labels\n",
    "from collections import Counter\n",
    "Counter(labels), len(set(labels))"
   ]
  },
  {
   "cell_type": "code",
   "execution_count": null,
   "metadata": {},
   "outputs": [],
   "source": [
    "# len(features)"
   ]
  },
  {
   "cell_type": "code",
   "execution_count": null,
   "metadata": {},
   "outputs": [],
   "source": [
    "# features_reduced[:, 0]"
   ]
  },
  {
   "cell_type": "code",
   "execution_count": null,
   "metadata": {},
   "outputs": [],
   "source": [
    "# reduce features to 2-dim\n",
    "from sklearn.decomposition import PCA\n",
    "from sklearn.manifold import TSNE\n",
    "# pca = PCA(n_components=2)\n",
    "# features_reduced = pca.fit_transform(features)\n",
    "features_reduced = TSNE(n_components=2, learning_rate='auto',\n",
    "                  init='random').fit_transform(np.array(features))"
   ]
  },
  {
   "cell_type": "code",
   "execution_count": null,
   "metadata": {},
   "outputs": [],
   "source": [
    "# plot features \n",
    "import seaborn as sns\n",
    "import matplotlib.pyplot as plt\n",
    "# features_reduced = TSNE(n_components=2, learning_rate='auto',\n",
    "#                   init='random').fit_transform(np.array(features))\n",
    "plt.figure(figsize=(18, 12))\n",
    "sns.scatterplot(x=features_reduced[:, 0], y=features_reduced[:, 1], hue=labels, palette='gist_rainbow_r')\n",
    "# sns.displot(data=df_c, x=df_c['probability'])\n",
    "plt.show()"
   ]
  },
  {
   "cell_type": "code",
   "execution_count": null,
   "metadata": {},
   "outputs": [],
   "source": [
    "# zip labels with filepaths of images\n",
    "preds = list(zip(labels, fps))"
   ]
  },
  {
   "cell_type": "code",
   "execution_count": null,
   "metadata": {},
   "outputs": [],
   "source": [
    "from skimage import io\n",
    "images = [io.imread(fp) for cluster, fp in preds if cluster == 15]"
   ]
  },
  {
   "cell_type": "code",
   "execution_count": null,
   "metadata": {},
   "outputs": [],
   "source": [
    "show_images(images[:10])"
   ]
  },
  {
   "cell_type": "code",
   "execution_count": null,
   "metadata": {},
   "outputs": [],
   "source": [
    "\n",
    "import shutil, os\n",
    "output_dir = f'../../data_imgs/pretextselfsupervisedv4'\n",
    "# output_dir = f'../../data_imgs/selfsuperviseddbscanesp0.12'\n",
    "\n",
    "clusters_to_write = preds\n",
    "\n",
    "try:\n",
    "    os.mkdir(output_dir)\n",
    "except Exception as e:\n",
    "    print(e)\n",
    "    shutil.rmtree(output_dir)\n",
    "    os.mkdir(output_dir)\n",
    "    \n",
    "for cluster in list(set([cluster for cluster, _ in clusters_to_write])):\n",
    "#     print(class_)\n",
    "    os.mkdir(os.path.join(output_dir, str(cluster)))\n",
    "    \n",
    "for cluster, fp in clusters_to_write:\n",
    "    cluster_dir = os.path.join(output_dir, str(cluster))\n",
    "    filename = os.path.basename(fp)\n",
    "    dest_fp = os.path.join(cluster_dir, f'{filename}')\n",
    "    shutil.copy(fp, dest_fp)\n",
    "    "
   ]
  },
  {
   "cell_type": "code",
   "execution_count": null,
   "metadata": {},
   "outputs": [],
   "source": [
    "!7z a {os.path.abspath(os.path.dirname(output_dir))}/{os.path.basename(output_dir)}.7z {output_dir} "
   ]
  },
  {
   "cell_type": "code",
   "execution_count": null,
   "metadata": {},
   "outputs": [],
   "source": []
  }
 ],
 "metadata": {
  "kernelspec": {
   "display_name": "Python 3 (ipykernel)",
   "language": "python",
   "name": "python3"
  },
  "language_info": {
   "codemirror_mode": {
    "name": "ipython",
    "version": 3
   },
   "file_extension": ".py",
   "mimetype": "text/x-python",
   "name": "python",
   "nbconvert_exporter": "python",
   "pygments_lexer": "ipython3",
   "version": "3.9.12"
  },
  "widgets": {
   "application/vnd.jupyter.widget-state+json": {
    "state": {},
    "version_major": 2,
    "version_minor": 0
   }
  }
 },
 "nbformat": 4,
 "nbformat_minor": 4
}
